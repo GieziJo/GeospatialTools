{
 "cells": [
  {
   "cell_type": "markdown",
   "id": "bc2fa0dc-5019-4d01-bbb3-d679ed1c82c2",
   "metadata": {
    "tags": []
   },
   "source": [
    "Author: [Jonathan Giezendanner](https://www.jgiezendanner.com/)\\\n",
    "Created On: Nov. 16th 2023"
   ]
  },
  {
   "cell_type": "markdown",
   "id": "b1328121-a31f-4b51-92cf-abb0c499d2c3",
   "metadata": {
    "tags": []
   },
   "source": [
    "# Order, post-process and download files from LAADS DAC"
   ]
  },
  {
   "cell_type": "markdown",
   "id": "b2b58098-0eed-4579-825d-b8cd6b54de78",
   "metadata": {
    "tags": []
   },
   "source": [
    "The goal of this notebook is to show how to check for file availability for a given product on LAADS DAC, request the files with post-processing, and finally download the data."
   ]
  },
  {
   "cell_type": "markdown",
   "id": "8143d764-b94b-46ff-870d-6c87c1aab193",
   "metadata": {
    "tags": []
   },
   "source": [
    "### Credentials\n",
    "apikey - see here to request api key: https://ladsweb.modaps.eosdis.nasa.gov/profiles/#generate-token-modal \\\n",
    "email - email used to access https://ladsweb.modaps.eosdis.nasa.gov/"
   ]
  },
  {
   "cell_type": "code",
   "execution_count": 1,
   "id": "fd55428a-b5df-4c54-9704-58099c96ce2a",
   "metadata": {
    "tags": []
   },
   "outputs": [],
   "source": [
    "apikey = ''\n",
    "email = ''"
   ]
  },
  {
   "cell_type": "code",
   "execution_count": 2,
   "id": "c46aa9ad-6530-4772-b3a1-883e21523a23",
   "metadata": {
    "tags": []
   },
   "outputs": [],
   "source": [
    "import datetime\n",
    "from bs4 import BeautifulSoup\n",
    "import time\n",
    "import contextlib\n",
    "from IPython.utils import io\n",
    "from pathlib import Path"
   ]
  },
  {
   "cell_type": "markdown",
   "id": "c2f95d8a-cbf0-475b-8169-c23d29d7845e",
   "metadata": {
    "tags": []
   },
   "source": [
    "## Options"
   ]
  },
  {
   "cell_type": "markdown",
   "id": "22667d55-4383-4885-a4b1-5de843afdd66",
   "metadata": {
    "tags": []
   },
   "source": [
    "### Output"
   ]
  },
  {
   "cell_type": "code",
   "execution_count": 3,
   "id": "990563ac-b429-475f-bc76-898097379c01",
   "metadata": {
    "tags": []
   },
   "outputs": [],
   "source": [
    "outputPath = Path('OutputTif') # folder to save the output to"
   ]
  },
  {
   "cell_type": "markdown",
   "id": "5f194117-ebce-45bc-9370-b46ee47d3c6c",
   "metadata": {
    "tags": []
   },
   "source": [
    "### Date and RoI"
   ]
  },
  {
   "cell_type": "code",
   "execution_count": 4,
   "id": "0a75e258-9727-49dd-8f26-532d9ef39b69",
   "metadata": {
    "tags": []
   },
   "outputs": [],
   "source": [
    "dateOfInterest = \"2022-11-20\""
   ]
  },
  {
   "cell_type": "code",
   "execution_count": 5,
   "id": "4ffb1624-a9f9-4966-81eb-e80dc1de54fe",
   "metadata": {
    "tags": []
   },
   "outputs": [],
   "source": [
    "# bounding box\n",
    "north = 35.35687719\n",
    "south = 34.49530691\n",
    "east = 11.14011447\n",
    "west = 10.29190187"
   ]
  },
  {
   "cell_type": "markdown",
   "id": "e6151cd5-4017-41da-82f5-5512988ebad6",
   "metadata": {
    "tags": []
   },
   "source": [
    "### Product Specification"
   ]
  },
  {
   "cell_type": "code",
   "execution_count": 6,
   "id": "21c4a171-8219-44b5-9c00-c389bae2aa8b",
   "metadata": {
    "tags": []
   },
   "outputs": [],
   "source": [
    "product = 'VNP09'\n",
    "collection = '5000'\n",
    "dayNightBoth = 'D'\n",
    "coordsOrTiles = 'coords'"
   ]
  },
  {
   "cell_type": "markdown",
   "id": "d44838b6-8564-424c-bcbd-0a4c483ce52a",
   "metadata": {
    "tags": []
   },
   "source": [
    "### Post Processing"
   ]
  },
  {
   "cell_type": "code",
   "execution_count": 7,
   "id": "77764e86-ecc9-41b5-b9dd-096f5ddd634b",
   "metadata": {
    "tags": []
   },
   "outputs": [],
   "source": [
    "reformatType = \"geotiff\"\n",
    "doMosaic = \"true\"\n",
    "reprojectionName = \"MERCAT\""
   ]
  },
  {
   "cell_type": "code",
   "execution_count": null,
   "id": "4d0d39d2-f0d6-4a9c-a02a-2cb72a7ecbba",
   "metadata": {
    "tags": []
   },
   "outputs": [],
   "source": []
  },
  {
   "cell_type": "code",
   "execution_count": 8,
   "id": "4ae6af39-3d40-46ea-9ef2-7ebd2c4d216c",
   "metadata": {
    "tags": []
   },
   "outputs": [],
   "source": [
    "outputPath.mkdir(exist_ok=True, parents=True)"
   ]
  },
  {
   "cell_type": "markdown",
   "id": "471b36a6-c323-4346-8519-3d078f80d4b2",
   "metadata": {
    "tags": []
   },
   "source": [
    "## Get available files"
   ]
  },
  {
   "cell_type": "code",
   "execution_count": 9,
   "id": "61f902c9-2858-49bc-8728-c20b6aa8ec3e",
   "metadata": {
    "tags": []
   },
   "outputs": [],
   "source": [
    "date = datetime.datetime.strptime(dateOfInterest,\"%Y-%m-%d\") #for later when I need to read the date\n",
    "\n",
    "stringDate = date.strftime(\"%Y-%m-%d\")\n",
    "\n",
    "commandAvailability =  \"\\\"https://modwebsrv.modaps.eosdis.nasa.gov/axis2/services/MODAPSservices/searchForFiles?\"+\\\n",
    "    f\"products={product}&\"+\\\n",
    "    f\"collection={collection}&\"+\\\n",
    "    f\"startTime={stringDate}&\"+\\\n",
    "    f\"endTime={stringDate}&\"+\\\n",
    "    f\"north={north}&\"+\\\n",
    "    f\"east={east}&\"+\\\n",
    "    f\"south={south}&\"+\\\n",
    "    f\"west={west}&\"+\\\n",
    "    f\"dayNightBoth={dayNightBoth}&\"+\\\n",
    "    f\"coordsOrTiles={coordsOrTiles}\\\"\""
   ]
  },
  {
   "cell_type": "code",
   "execution_count": 10,
   "id": "225be163-8050-446b-b700-a8b0ae2f89e0",
   "metadata": {
    "tags": []
   },
   "outputs": [],
   "source": [
    "availabilityXML = (outputPath/'availability.xml').as_posix()\n",
    "with io.capture_output() as captured:\n",
    "    !wget $commandAvailability -O \"$availabilityXML\""
   ]
  },
  {
   "cell_type": "code",
   "execution_count": 11,
   "id": "4b98bae5-af0d-419b-83d5-dab9c6244334",
   "metadata": {
    "tags": []
   },
   "outputs": [],
   "source": [
    "with open(availabilityXML, 'r') as f:\n",
    "    images = ','.join(map(lambda item: item.text, BeautifulSoup(f.read(), \"xml\").find_all('return')))"
   ]
  },
  {
   "cell_type": "markdown",
   "id": "b03ff863-f14d-4772-9ff3-587474de52c1",
   "metadata": {
    "tags": []
   },
   "source": [
    "## Order files"
   ]
  },
  {
   "cell_type": "code",
   "execution_count": 12,
   "id": "8c325345-0620-4f07-b8e6-4836bf179443",
   "metadata": {
    "tags": []
   },
   "outputs": [],
   "source": [
    "commandOrder = f\"\\\"https://modwebsrv.modaps.eosdis.nasa.gov/axis2/services/MODAPSservices/orderFiles?\"+\\\n",
    "             f\"email={email}&\"+\\\n",
    "             f\"fileIds={images}&\"+\\\n",
    "             f\"reformatType={reformatType}&\"+\\\n",
    "             f\"doMosaic={doMosaic}&\"+\\\n",
    "             f\"reprojectionName={reprojectionName}&\"+\\\n",
    "             f\"geoSubsetNorth={north}&\"+\\\n",
    "             f\"geoSubsetEast={east}&\"+\\\n",
    "             f\"geoSubsetSouth={south}&\"+\\\n",
    "             f\"geoSubsetWest={west}\\\"\""
   ]
  },
  {
   "cell_type": "code",
   "execution_count": 13,
   "id": "a6221e51-0e63-4fbf-a223-46d16c48bf31",
   "metadata": {
    "tags": []
   },
   "outputs": [],
   "source": [
    "orderXML = (outputPath/'order.xml').as_posix()\n",
    "with io.capture_output() as captured:\n",
    "    !wget $commandOrder -O \"$orderXML\""
   ]
  },
  {
   "cell_type": "code",
   "execution_count": 14,
   "id": "0fd0dac5-dd7f-4850-9038-913c653c4920",
   "metadata": {
    "tags": []
   },
   "outputs": [],
   "source": [
    "with open(orderXML, 'r') as f:\n",
    "    orderNumber = BeautifulSoup(f.read(), \"xml\").find_all('return')[0].text"
   ]
  },
  {
   "cell_type": "code",
   "execution_count": null,
   "id": "094a0911-cc3b-43b2-aa7f-423dbf0aa529",
   "metadata": {
    "tags": []
   },
   "outputs": [],
   "source": []
  },
  {
   "cell_type": "markdown",
   "id": "053082db-9c10-44c8-b707-70195b8b53e1",
   "metadata": {
    "tags": []
   },
   "source": [
    "## Wait for order to complete"
   ]
  },
  {
   "cell_type": "code",
   "execution_count": 15,
   "id": "157ce526-5b4d-4087-9d9f-4b3aec00369d",
   "metadata": {
    "tags": []
   },
   "outputs": [],
   "source": [
    "commandStatus = f\"\\\"https://modwebsrv.modaps.eosdis.nasa.gov/axis2/services/MODAPSservices/getOrderStatus?\"+\\\n",
    "             f\"orderId={orderNumber}\\\"\""
   ]
  },
  {
   "cell_type": "code",
   "execution_count": 16,
   "id": "113c7d45-066a-4c9d-b018-810fc351fc51",
   "metadata": {
    "tags": []
   },
   "outputs": [
    {
     "name": "stdout",
     "output_type": "stream",
     "text": [
      "Available                   \r"
     ]
    }
   ],
   "source": [
    "statusXML = (outputPath/'status.xml').as_posix()\n",
    "status = ''\n",
    "while status != 'Available':\n",
    "    time.sleep(10)\n",
    "    with io.capture_output() as captured:\n",
    "        !wget $commandStatus -O \"$statusXML\"\n",
    "    with open(statusXML, 'r') as f:\n",
    "        status = BeautifulSoup(f.read(), \"xml\").find_all('return')[0].text\n",
    "    print(\"                            \", end='\\r')\n",
    "    print(status, end='\\r')"
   ]
  },
  {
   "cell_type": "code",
   "execution_count": null,
   "id": "4057985b-057b-476d-8758-81067d0483c0",
   "metadata": {
    "tags": []
   },
   "outputs": [],
   "source": []
  },
  {
   "cell_type": "markdown",
   "id": "fc0a0209-01d0-4db9-b83d-8a7cf38b7585",
   "metadata": {
    "tags": []
   },
   "source": [
    "## Download Files"
   ]
  },
  {
   "cell_type": "code",
   "execution_count": 17,
   "id": "033d9404-732b-4027-93d9-201db43282f1",
   "metadata": {
    "tags": []
   },
   "outputs": [],
   "source": [
    "outputPathString = outputPath.as_posix()\n",
    "archiveURL = f\"\\\"https://ladsweb.modaps.eosdis.nasa.gov/archive/orders/{orderNumber}/\\\"\"\n",
    "access = f\"\\\"Authorization: Bearer {apikey}\\\"\"\n",
    "with io.capture_output() as captured:\n",
    "    !wget -e robots=off -m -np -R .html,.tmp -nH --cut-dirs=3 $archiveURL --header $access -P $outputPath"
   ]
  },
  {
   "cell_type": "code",
   "execution_count": null,
   "id": "6fd0d464-b2bc-4d7d-ac28-3c9226e675d8",
   "metadata": {
    "tags": []
   },
   "outputs": [],
   "source": []
  },
  {
   "cell_type": "markdown",
   "id": "877078f8-5f9a-4031-9d20-d0e8eaed9fe1",
   "metadata": {
    "tags": []
   },
   "source": [
    "## Release Order"
   ]
  },
  {
   "cell_type": "code",
   "execution_count": 18,
   "id": "5a0e66fa-d489-4907-9295-da80011ac50f",
   "metadata": {
    "tags": []
   },
   "outputs": [],
   "source": [
    "commandRelease = f\"\\\"https://modwebsrv.modaps.eosdis.nasa.gov/axis2/services/MODAPSservices/releaseOrder?\"+\\\n",
    "             f\"email={email}&\"+\\\n",
    "             f\"orderId={orderNumber}\\\"\""
   ]
  },
  {
   "cell_type": "code",
   "execution_count": 19,
   "id": "30733987-b555-49dd-9722-77defc15b434",
   "metadata": {
    "tags": []
   },
   "outputs": [],
   "source": [
    "releaseXML = (outputPath/'release.xml').as_posix()\n",
    "with io.capture_output() as captured:\n",
    "    !wget $commandRelease -O \"$releaseXML\""
   ]
  },
  {
   "cell_type": "code",
   "execution_count": null,
   "id": "cffcb5b9-83d7-43ee-9274-112a7a3438ed",
   "metadata": {},
   "outputs": [],
   "source": []
  }
 ],
 "metadata": {
  "kernelspec": {
   "display_name": "Python 3 (ipykernel)",
   "language": "python",
   "name": "python3"
  },
  "language_info": {
   "codemirror_mode": {
    "name": "ipython",
    "version": 3
   },
   "file_extension": ".py",
   "mimetype": "text/x-python",
   "name": "python",
   "nbconvert_exporter": "python",
   "pygments_lexer": "ipython3",
   "version": "3.11.4"
  }
 },
 "nbformat": 4,
 "nbformat_minor": 5
}
