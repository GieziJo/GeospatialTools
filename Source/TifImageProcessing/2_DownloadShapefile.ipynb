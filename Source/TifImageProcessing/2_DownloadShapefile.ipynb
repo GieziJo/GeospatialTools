{
 "cells": [
  {
   "cell_type": "code",
   "execution_count": 13,
   "id": "38260288-2096-46ec-8a4e-56f84fd81977",
   "metadata": {
    "tags": []
   },
   "outputs": [],
   "source": [
    "import urllib.request\n",
    "from pathlib import Path\n",
    "import zipfile\n",
    "import os"
   ]
  },
  {
   "cell_type": "code",
   "execution_count": null,
   "id": "92df0e19-e051-48f9-8b84-179278f3a4f3",
   "metadata": {},
   "outputs": [],
   "source": []
  },
  {
   "cell_type": "code",
   "execution_count": 3,
   "id": "ba043a6a-430b-47f1-8e5d-4b49d590ad7d",
   "metadata": {
    "tags": []
   },
   "outputs": [],
   "source": [
    "shapeFileUrl = \"https://data.humdata.org/dataset/401d3fae-4262-48c9-891f-461fd776d49b/resource/08736818-ae72-44a9-abd6-a51915c24921/download/bgd_adm_bbs_20201113_shp.zip\""
   ]
  },
  {
   "cell_type": "code",
   "execution_count": 8,
   "id": "3d8aca06-eccc-46e4-8f8b-439fe8bc8e73",
   "metadata": {
    "tags": []
   },
   "outputs": [
    {
     "data": {
      "text/plain": [
       "(PosixPath('Data/ShapeFiles/bgd_adm_bbs_20201113_shp.zip'),\n",
       " <http.client.HTTPMessage at 0x1070ed650>)"
      ]
     },
     "execution_count": 8,
     "metadata": {},
     "output_type": "execute_result"
    }
   ],
   "source": [
    "zipFileTargetPath = Path('Data/ShapeFiles/bgd_adm_bbs_20201113_shp.zip')\n",
    "zipFileTargetPath.parent.mkdir(parents=True, exist_ok=True)\n",
    "\n",
    "urllib.request.urlretrieve(shapeFileUrl, zipFileTargetPath) "
   ]
  },
  {
   "cell_type": "code",
   "execution_count": 11,
   "id": "c0fa351a-3a91-45b8-a329-8fe33968b512",
   "metadata": {
    "tags": []
   },
   "outputs": [],
   "source": [
    "with zipfile.ZipFile(zipFileTargetPath, 'r') as zip_ref:\n",
    "    zip_ref.extractall(zipFileTargetPath.parent)"
   ]
  },
  {
   "cell_type": "code",
   "execution_count": 14,
   "id": "586cb612-dc88-4827-8c17-a69bb8c173fe",
   "metadata": {
    "tags": []
   },
   "outputs": [],
   "source": [
    "os.remove(zipFileTargetPath)"
   ]
  },
  {
   "cell_type": "code",
   "execution_count": null,
   "id": "819e9f7d-90bb-4bb6-aafc-edb9472b7794",
   "metadata": {},
   "outputs": [],
   "source": []
  }
 ],
 "metadata": {
  "kernelspec": {
   "display_name": "Python 3 (ipykernel)",
   "language": "python",
   "name": "python3"
  },
  "language_info": {
   "codemirror_mode": {
    "name": "ipython",
    "version": 3
   },
   "file_extension": ".py",
   "mimetype": "text/x-python",
   "name": "python",
   "nbconvert_exporter": "python",
   "pygments_lexer": "ipython3",
   "version": "3.11.4"
  }
 },
 "nbformat": 4,
 "nbformat_minor": 5
}
