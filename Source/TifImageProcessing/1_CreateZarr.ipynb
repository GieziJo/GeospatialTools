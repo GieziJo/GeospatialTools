{
 "cells": [
  {
   "cell_type": "markdown",
   "id": "cf43b865-7fa4-46d7-8d9e-05bb4aac9b3b",
   "metadata": {
    "tags": []
   },
   "source": [
    "# Create Zarr"
   ]
  },
  {
   "cell_type": "markdown",
   "id": "ae9d72ce-dac0-4574-81bd-361d269cc2a5",
   "metadata": {},
   "source": [
    "This code creates a zarr file from the collection of `.tif` files previously downloaded. Zarr is a much more efficient file format"
   ]
  },
  {
   "cell_type": "code",
   "execution_count": 1,
   "id": "0df9ad9e-916d-40a6-98bc-a9645c7314b8",
   "metadata": {
    "tags": []
   },
   "outputs": [],
   "source": [
    "from pathlib import Path\n",
    "import datetime\n",
    "import pandas as pd\n",
    "import xarray as xr\n",
    "import rioxarray as rioxr\n",
    "import dask\n",
    "import zarr"
   ]
  },
  {
   "cell_type": "code",
   "execution_count": 2,
   "id": "436f21e0-6c93-4990-b6f5-46b4e1213529",
   "metadata": {
    "tags": []
   },
   "outputs": [],
   "source": [
    "# where is the data\n",
    "dataPath = Path('Data/BangladeshTimeSeries/') #this is the path to the tif files"
   ]
  },
  {
   "cell_type": "code",
   "execution_count": 3,
   "id": "7ed70f81-bfc3-409b-89f8-a48ecdc18ba1",
   "metadata": {
    "tags": []
   },
   "outputs": [],
   "source": [
    "# where do we want to save the zarr files\n",
    "zarrOutput = (dataPath.parent/'BangladeshTimeSeriesZarr')\n",
    "zarrOutput.mkdir()"
   ]
  },
  {
   "cell_type": "code",
   "execution_count": 4,
   "id": "3e3303b0-f61f-4e10-ac5f-af6d085f136f",
   "metadata": {
    "tags": []
   },
   "outputs": [],
   "source": [
    "# find all files in data source path\n",
    "files = list(dataPath.glob('*.tiff'))"
   ]
  },
  {
   "cell_type": "code",
   "execution_count": null,
   "id": "dcaf802d-b09a-4275-99db-628077509601",
   "metadata": {},
   "outputs": [],
   "source": []
  },
  {
   "cell_type": "code",
   "execution_count": 5,
   "id": "54738e22-0519-4efc-8493-bd691eea5e16",
   "metadata": {
    "tags": []
   },
   "outputs": [],
   "source": [
    "# extract dates from file names\n",
    "dates = pd.DatetimeIndex([pd.Timestamp(datetime.datetime.fromtimestamp(int(file.stem) / 1000.0, tz=datetime.timezone.utc)) for file in files])"
   ]
  },
  {
   "cell_type": "code",
   "execution_count": 8,
   "id": "acfaa28d-28f9-4419-887a-3bd492922a6c",
   "metadata": {
    "tags": []
   },
   "outputs": [],
   "source": [
    "# create dates variable\n",
    "time = xr.Variable('time', dates)"
   ]
  },
  {
   "cell_type": "code",
   "execution_count": 9,
   "id": "3dea27c0-a633-46ec-9ef2-59a24bc171c6",
   "metadata": {
    "tags": []
   },
   "outputs": [],
   "source": [
    "# open all `tif` files and concatenate them into a xarray dataset\n",
    "chunks = {'x': None, 'y': None, 'band': None}\n",
    "data = xr.concat(map(lambda f: rioxr.open_rasterio(f, chunks=chunks), files), dim=time)"
   ]
  },
  {
   "cell_type": "code",
   "execution_count": 10,
   "id": "8e6d2d9e-4888-46b0-bc51-ee95177372f6",
   "metadata": {
    "tags": []
   },
   "outputs": [
    {
     "data": {
      "text/plain": [
       "<xarray.backends.zarr.ZarrStore at 0x17db21ee0>"
      ]
     },
     "execution_count": 10,
     "metadata": {},
     "output_type": "execute_result"
    }
   ],
   "source": [
    "# save result as zarr\n",
    "data.to_zarr(zarrOutput)"
   ]
  },
  {
   "cell_type": "code",
   "execution_count": null,
   "id": "c9714980-7998-49f9-97aa-af92173abf44",
   "metadata": {},
   "outputs": [],
   "source": []
  }
 ],
 "metadata": {
  "kernelspec": {
   "display_name": "Python 3 (ipykernel)",
   "language": "python",
   "name": "python3"
  },
  "language_info": {
   "codemirror_mode": {
    "name": "ipython",
    "version": 3
   },
   "file_extension": ".py",
   "mimetype": "text/x-python",
   "name": "python",
   "nbconvert_exporter": "python",
   "pygments_lexer": "ipython3",
   "version": "3.11.4"
  }
 },
 "nbformat": 4,
 "nbformat_minor": 5
}
