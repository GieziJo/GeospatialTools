{
 "cells": [
  {
   "cell_type": "markdown",
   "id": "e1cfcc9f-1fc1-4881-bbee-809fcc9e9319",
   "metadata": {
    "tags": []
   },
   "source": [
    "# Create movie from series of `.png`s"
   ]
  },
  {
   "cell_type": "markdown",
   "id": "84eb9463-ab1a-46f0-8b9c-1f0d4ceeeb4f",
   "metadata": {
    "tags": []
   },
   "source": [
    "To run this I would suggest creating a new conda environment and installing [moviepy](https://zulko.github.io/moviepy/index.html)\n",
    "\n",
    "[Format documentation](https://zulko.github.io/moviepy/ref/VideoClip/VideoClip.html#moviepy.video.VideoClip.VideoClip.write_videofile)"
   ]
  },
  {
   "cell_type": "code",
   "execution_count": 2,
   "id": "0ded4ae7-06a1-41f8-a898-f0efc35a3d44",
   "metadata": {
    "tags": []
   },
   "outputs": [],
   "source": [
    "import moviepy\n",
    "import numpy as np\n",
    "from moviepy.editor import *"
   ]
  },
  {
   "cell_type": "code",
   "execution_count": 3,
   "id": "e211eec3-3b93-48e3-bb85-88cc57d2447f",
   "metadata": {},
   "outputs": [],
   "source": [
    "from pathlib import Path"
   ]
  },
  {
   "cell_type": "code",
   "execution_count": null,
   "id": "96833c11-5a08-46ab-b0b6-44ab531bee38",
   "metadata": {},
   "outputs": [],
   "source": []
  },
  {
   "cell_type": "code",
   "execution_count": 4,
   "id": "b11aa5e1-8fa8-4c75-985d-7db796dee96f",
   "metadata": {},
   "outputs": [],
   "source": [
    "# get all .png files and sort them\n",
    "files = list(Path('TimeSeriesGif').glob('**/*.png'))\n",
    "files = [t[1] for t in sorted(list(zip([int(f.stem) for f in files], files)))]"
   ]
  },
  {
   "cell_type": "code",
   "execution_count": 7,
   "id": "22af7eaa-ab08-4904-83a0-1cb80747dab2",
   "metadata": {},
   "outputs": [
    {
     "name": "stdout",
     "output_type": "stream",
     "text": [
      "Moviepy - Building video timeSeries.webm.\n",
      "Moviepy - Writing video timeSeries.webm\n",
      "\n"
     ]
    },
    {
     "name": "stderr",
     "output_type": "stream",
     "text": [
      "                                                                                "
     ]
    },
    {
     "name": "stdout",
     "output_type": "stream",
     "text": [
      "Moviepy - Done !\n",
      "Moviepy - video ready timeSeries.webm\n"
     ]
    },
    {
     "name": "stderr",
     "output_type": "stream",
     "text": [
      "\r"
     ]
    }
   ],
   "source": [
    "fps=8\n",
    "\n",
    "with ImageSequenceClip([f.as_posix() for f in files], fps=fps) as clip: \n",
    "    clip.write_videofile('timeSeries.mp4', codec='libx264')"
   ]
  },
  {
   "cell_type": "code",
   "execution_count": null,
   "id": "b473adb0-8880-486c-bcde-b5640d6281f2",
   "metadata": {},
   "outputs": [],
   "source": []
  }
 ],
 "metadata": {
  "kernelspec": {
   "display_name": "Python 3 (ipykernel)",
   "language": "python",
   "name": "python3"
  },
  "language_info": {
   "codemirror_mode": {
    "name": "ipython",
    "version": 3
   },
   "file_extension": ".py",
   "mimetype": "text/x-python",
   "name": "python",
   "nbconvert_exporter": "python",
   "pygments_lexer": "ipython3",
   "version": "3.12.2"
  }
 },
 "nbformat": 4,
 "nbformat_minor": 5
}
