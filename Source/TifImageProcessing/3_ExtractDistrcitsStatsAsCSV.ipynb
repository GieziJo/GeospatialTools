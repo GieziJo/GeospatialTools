{
 "cells": [
  {
   "cell_type": "markdown",
   "id": "281dc401-6e1a-41e7-abd1-72c84d14bb02",
   "metadata": {
    "tags": []
   },
   "source": [
    "# Extract district stats"
   ]
  },
  {
   "cell_type": "markdown",
   "id": "fdaf1451-e7ce-47bb-b422-a8d656e68971",
   "metadata": {},
   "source": [
    "This notebook extracts stast per district. You can specify which district you are interested in."
   ]
  },
  {
   "cell_type": "code",
   "execution_count": 1,
   "id": "fc67698a-9585-4b21-b81e-8702a7598fc3",
   "metadata": {
    "tags": []
   },
   "outputs": [],
   "source": [
    "from pathlib import Path\n",
    "import datetime\n",
    "import pandas as pd\n",
    "import xarray as xr\n",
    "import rioxarray as rioxr\n",
    "import dask\n",
    "import zarr\n",
    "import geopandas as gpd\n",
    "import matplotlib.pyplot as plt\n",
    "import numpy as np"
   ]
  },
  {
   "cell_type": "markdown",
   "id": "b631cc8e-e33f-4dbb-903e-b313209f6941",
   "metadata": {
    "tags": []
   },
   "source": [
    "## What do you want to extract"
   ]
  },
  {
   "cell_type": "markdown",
   "id": "d50581e0-7a1e-48fe-b353-0537faecc0b4",
   "metadata": {
    "tags": []
   },
   "source": [
    "parameters"
   ]
  },
  {
   "cell_type": "code",
   "execution_count": 2,
   "id": "a6263311-2ebe-40a9-8eba-dc00888e9513",
   "metadata": {
    "tags": []
   },
   "outputs": [],
   "source": [
    "districtsToExtract = ['Bagerhat', 'Bandarban', 'Sylhet'] # Either a series of districts, or 'All'"
   ]
  },
  {
   "cell_type": "code",
   "execution_count": 3,
   "id": "cdd861d6-8b62-4f8d-85fc-e9c92a1ea238",
   "metadata": {
    "tags": []
   },
   "outputs": [],
   "source": [
    "timeRange = ['2017-01-01', '2020-12-31'] # Either a time start and stop, or 'All'"
   ]
  },
  {
   "cell_type": "code",
   "execution_count": 4,
   "id": "df19f7e6-b72c-4bb3-9a90-3cfb25c43a51",
   "metadata": {
    "tags": []
   },
   "outputs": [],
   "source": [
    "outputCSV = 'DistrictInundationValues.csv' # target for the output csv file"
   ]
  },
  {
   "cell_type": "markdown",
   "id": "c8c05ce6-5913-40b5-b861-5c0ef8bb7331",
   "metadata": {
    "tags": []
   },
   "source": [
    "Inputs"
   ]
  },
  {
   "cell_type": "code",
   "execution_count": 5,
   "id": "8087a5e7-65b5-40a3-b519-accdcdcf7788",
   "metadata": {
    "tags": []
   },
   "outputs": [],
   "source": [
    "datapath = Path('Data/BangladeshTimeSeriesZarr/') #path to the zarr data"
   ]
  },
  {
   "cell_type": "code",
   "execution_count": null,
   "id": "e5023e18-af9d-4131-977f-683ad5adab78",
   "metadata": {
    "tags": []
   },
   "outputs": [],
   "source": [
    "# path to the district shapefile\n",
    "shapefilepath = Path('Data/ShapeFiles/bgd_adm_bbs_20201113_SHP/bgd_admbnda_adm2_bbs_20201113.shp')"
   ]
  },
  {
   "cell_type": "markdown",
   "id": "79d0e371-f289-413f-8acb-038b0df31f15",
   "metadata": {
    "tags": []
   },
   "source": [
    "## Load data and modify according to setup"
   ]
  },
  {
   "cell_type": "code",
   "execution_count": 6,
   "id": "24ffacfb-7922-42e5-ac42-3c2bdc7e3a20",
   "metadata": {
    "tags": []
   },
   "outputs": [],
   "source": [
    "dataset = xr.open_zarr(datapath)"
   ]
  },
  {
   "cell_type": "code",
   "execution_count": null,
   "id": "98828cf1-d0e5-4555-a188-3a01a72ae059",
   "metadata": {
    "tags": []
   },
   "outputs": [],
   "source": []
  },
  {
   "cell_type": "code",
   "execution_count": 7,
   "id": "39f6b395-4770-4368-98ce-b55c6f7c4cd8",
   "metadata": {
    "tags": []
   },
   "outputs": [],
   "source": [
    "dataset['time'] = pd.DatetimeIndex(dataset['time'].values)"
   ]
  },
  {
   "cell_type": "code",
   "execution_count": 8,
   "id": "0d9eea2c-b47e-4a49-94fd-8d5f9091e636",
   "metadata": {
    "tags": []
   },
   "outputs": [],
   "source": [
    "if timeRange != 'All':\n",
    "    index = (dataset.time.values >= pd.to_datetime(timeRange[0], format='%Y-%m-%d'))\\\n",
    "    & (dataset.time.values <= pd.to_datetime(timeRange[1], format='%Y-%m-%d'))\n",
    "    dataset = dataset.sel(time=index)"
   ]
  },
  {
   "cell_type": "code",
   "execution_count": 9,
   "id": "ae001a25-be66-4fb9-928d-8639218dc4f9",
   "metadata": {
    "tags": []
   },
   "outputs": [],
   "source": []
  },
  {
   "cell_type": "code",
   "execution_count": 10,
   "id": "50dc51cb-5973-471c-982a-b3e589113a4e",
   "metadata": {
    "tags": []
   },
   "outputs": [],
   "source": [
    "districts = gpd.read_file(shapefilepath)"
   ]
  },
  {
   "cell_type": "code",
   "execution_count": null,
   "id": "fae3e464-9261-4dbb-8c53-f80ed778e800",
   "metadata": {
    "tags": []
   },
   "outputs": [],
   "source": []
  },
  {
   "cell_type": "code",
   "execution_count": 11,
   "id": "1c45412e-1b55-4fb9-959d-f49b8d99340a",
   "metadata": {
    "tags": []
   },
   "outputs": [],
   "source": [
    "if districtsToExtract != 'All':\n",
    "    districts = districts.iloc[[name in districtsToExtract for name in districts.ADM2_EN.values],:]"
   ]
  },
  {
   "cell_type": "code",
   "execution_count": 12,
   "id": "7fc090c4-1248-4193-9dca-7d8792bca6e8",
   "metadata": {
    "tags": []
   },
   "outputs": [],
   "source": [
    "crs = districts.crs"
   ]
  },
  {
   "cell_type": "code",
   "execution_count": 13,
   "id": "a39b0171-ae04-48de-b794-af64a1bf4cbc",
   "metadata": {
    "tags": []
   },
   "outputs": [],
   "source": [
    "districts = districts.set_crs(crs)"
   ]
  },
  {
   "cell_type": "code",
   "execution_count": 14,
   "id": "913009c7-8e71-40c1-8477-7c27cd67b20d",
   "metadata": {
    "tags": []
   },
   "outputs": [],
   "source": [
    "dataset = dataset.rio.set_crs(crs)"
   ]
  },
  {
   "cell_type": "code",
   "execution_count": 15,
   "id": "8f904fdf-547d-45c5-9d19-72d23fe54630",
   "metadata": {
    "tags": []
   },
   "outputs": [],
   "source": [
    "dataset = dataset.rio.write_crs()"
   ]
  },
  {
   "cell_type": "markdown",
   "id": "ec71d885-8d57-4c23-aa83-cdf6008c699a",
   "metadata": {
    "tags": []
   },
   "source": [
    "## Extract values"
   ]
  },
  {
   "cell_type": "code",
   "execution_count": 16,
   "id": "7c7393c1-96da-4250-b0f1-b79cf27d3197",
   "metadata": {
    "tags": []
   },
   "outputs": [
    {
     "name": "stderr",
     "output_type": "stream",
     "text": [
      "/var/folders/7v/nd5knnbj7_vd29hrntprc10c0000gt/T/ipykernel_91940/3710732859.py:11: PerformanceWarning: dropping on a non-lexsorted multi-index without a level parameter may impact performance.\n",
      "  dfquants = dfquants.unstack().reset_index().drop(columns=['band'])\n",
      "/var/folders/7v/nd5knnbj7_vd29hrntprc10c0000gt/T/ipykernel_91940/3710732859.py:11: PerformanceWarning: dropping on a non-lexsorted multi-index without a level parameter may impact performance.\n",
      "  dfquants = dfquants.unstack().reset_index().drop(columns=['band'])\n",
      "/var/folders/7v/nd5knnbj7_vd29hrntprc10c0000gt/T/ipykernel_91940/3710732859.py:11: PerformanceWarning: dropping on a non-lexsorted multi-index without a level parameter may impact performance.\n",
      "  dfquants = dfquants.unstack().reset_index().drop(columns=['band'])\n"
     ]
    }
   ],
   "source": [
    "dfs = []\n",
    "\n",
    "# iterate over selected districts\n",
    "for index, row in districts.iterrows():\n",
    "    geometry = row['geometry']\n",
    "    # clip dataset to selected districts\n",
    "    clipped_dataset = dataset.rio.clip([geometry], crs, drop=True, invert=False, all_touched=True)\n",
    "    \n",
    "    # calculate quantiles\n",
    "    quantinundation = clipped_dataset.quantile([.025, .25,.5,.75, .975], dim=['x','y'], skipna=True)\n",
    "    dfquants = quantinundation.to_dataframe()\n",
    "    dfquants.columns = ['Quantile']\n",
    "    dfquants = dfquants.unstack().reset_index().drop(columns=['band'])\n",
    "    names = [f\"{pair[0]}_{pair[1]}\" for pair in dfquants.columns]\n",
    "    names[0] = 'time'\n",
    "    dfquants.columns = dfquants.columns.droplevel(0)\n",
    "    dfquants.columns = names\n",
    "    dfquants.drop(columns=['Quantile_0.5'])\n",
    "\n",
    "    # calculate median\n",
    "    dfmedian = clipped_dataset.median(dim=['x','y'], skipna=True).to_dataframe()\n",
    "    dfmedian = dfmedian.drop(columns='spatial_ref')\n",
    "    dfmedian.columns = ['Median']\n",
    "    dfmedian = dfmedian.reset_index().drop(columns=['band'])\n",
    "\n",
    "    # calculate mean\n",
    "    dfmean = clipped_dataset.mean(dim=['x','y'], skipna=True).to_dataframe()\n",
    "    dfmean = dfmean.drop(columns='spatial_ref')\n",
    "    dfmean.columns = ['Mean']\n",
    "    dfmean = dfmean.reset_index().drop(columns=['band'])\n",
    "\n",
    "    # calculate std\n",
    "    dfstd = clipped_dataset.std(dim=['x','y'], skipna=True).to_dataframe()\n",
    "    dfstd = dfstd.drop(columns='spatial_ref')\n",
    "    dfstd.columns = ['Std']\n",
    "    dfstd = dfstd.reset_index().drop(columns=['band'])\n",
    "\n",
    "    # calculate min\n",
    "    dfmin = clipped_dataset.min(dim=['x','y'], skipna=True).to_dataframe()\n",
    "    dfmin = dfmin.drop(columns='spatial_ref')\n",
    "    dfmin.columns = ['Min']\n",
    "    dfmin = dfmin.reset_index().drop(columns=['band'])\n",
    "\n",
    "    # calculate max\n",
    "    dfmax = clipped_dataset.max(dim=['x','y'], skipna=True).to_dataframe()\n",
    "    dfmax = dfmax.drop(columns='spatial_ref')\n",
    "    dfmax.columns = ['Max']\n",
    "    dfmax = dfmax.reset_index().drop(columns=['band'])\n",
    "\n",
    "    # merge all togeter\n",
    "    dfMerged = dfquants.merge(dfmedian, on='time').merge(dfmean, on='time').merge(dfstd, on='time').merge(dfmin, on='time').merge(dfmax, on='time').rename(columns={'time':'Date'})\n",
    "    dfMerged['Region'] = row.ADM1_EN\n",
    "    dfMerged['District'] = row.ADM2_EN\n",
    "    dfMerged['Day'] = [d.day for d in dfMerged.Date]\n",
    "    dfMerged['Month'] = [d.month for d in dfMerged.Date]\n",
    "    dfMerged['Year'] = [d.year for d in dfMerged.Date]\n",
    "    \n",
    "    dfs.append(dfMerged)"
   ]
  },
  {
   "cell_type": "code",
   "execution_count": 17,
   "id": "c6e62555-c48b-4efd-8d74-f240ea126665",
   "metadata": {
    "tags": []
   },
   "outputs": [],
   "source": [
    "# save as csv\n",
    "pd.concat(dfs).to_csv(outputCSV, index=False)"
   ]
  },
  {
   "cell_type": "code",
   "execution_count": null,
   "id": "d014bd38-183a-47b5-97d2-604f2eaf5ce7",
   "metadata": {
    "tags": []
   },
   "outputs": [],
   "source": []
  },
  {
   "cell_type": "code",
   "execution_count": null,
   "id": "30e7836e-0c91-4c7b-b85f-9539e16c6794",
   "metadata": {},
   "outputs": [],
   "source": []
  },
  {
   "cell_type": "code",
   "execution_count": null,
   "id": "330703ef-a515-42b2-b55d-2f4cf3b14b2e",
   "metadata": {},
   "outputs": [],
   "source": []
  },
  {
   "cell_type": "code",
   "execution_count": null,
   "id": "bd0ac2aa-37fe-48d5-b29e-6a3f64fd81ba",
   "metadata": {},
   "outputs": [],
   "source": []
  },
  {
   "cell_type": "code",
   "execution_count": null,
   "id": "77468b6d-37cb-491e-a5f9-f52208c257f2",
   "metadata": {},
   "outputs": [],
   "source": []
  },
  {
   "cell_type": "code",
   "execution_count": null,
   "id": "e5336f86-accd-486a-af93-6607e460a461",
   "metadata": {},
   "outputs": [],
   "source": []
  },
  {
   "cell_type": "code",
   "execution_count": null,
   "id": "532bfe98-4f2a-4ce4-af1b-7638141b7f0c",
   "metadata": {},
   "outputs": [],
   "source": []
  }
 ],
 "metadata": {
  "kernelspec": {
   "display_name": "Python 3 (ipykernel)",
   "language": "python",
   "name": "python3"
  },
  "language_info": {
   "codemirror_mode": {
    "name": "ipython",
    "version": 3
   },
   "file_extension": ".py",
   "mimetype": "text/x-python",
   "name": "python",
   "nbconvert_exporter": "python",
   "pygments_lexer": "ipython3",
   "version": "3.11.4"
  }
 },
 "nbformat": 4,
 "nbformat_minor": 5
}
