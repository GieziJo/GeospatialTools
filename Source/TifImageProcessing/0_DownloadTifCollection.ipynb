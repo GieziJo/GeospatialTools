{
 "cells": [
  {
   "cell_type": "markdown",
   "id": "6fbb2bcf-0ea3-4761-ada7-6214325c43a0",
   "metadata": {
    "tags": []
   },
   "source": [
    "# Download `.tif` files"
   ]
  },
  {
   "cell_type": "markdown",
   "id": "33bcd000-abc8-4e73-8d9f-28c8a82d2264",
   "metadata": {
    "tags": []
   },
   "source": [
    "## This code downloads all the tif files produced in [Giezendanner et al. (2023)](https://ieeexplore.ieee.org/document/10208542)"
   ]
  },
  {
   "cell_type": "code",
   "execution_count": 1,
   "id": "bbe5aaa9-9037-4ff5-8fec-97ea2e05e42a",
   "metadata": {
    "tags": []
   },
   "outputs": [],
   "source": [
    "from pathlib import Path\n",
    "import pandas as pd\n",
    "import urllib.request"
   ]
  },
  {
   "cell_type": "code",
   "execution_count": 2,
   "id": "289eab6a-76b5-4507-b0f8-15d0cebc5517",
   "metadata": {
    "tags": []
   },
   "outputs": [],
   "source": [
    "# Url to download the data\n",
    "urlDataCollection = \"https://data.cyverse.org/dav-anon/iplant/commons/cyverse_curated/Giezendanner_BangladeshInundationHistory_Mai2023/CVPR23FractionalInundationHistory/\""
   ]
  },
  {
   "cell_type": "code",
   "execution_count": 3,
   "id": "dcb40a46-9332-4190-9ea6-8493349dca34",
   "metadata": {
    "tags": []
   },
   "outputs": [],
   "source": [
    "# target local path where to download the data to\n",
    "targetPath = Path('Data/BangladeshTimeSeries/')\n",
    "targetPath.mkdir(parents=True, exist_ok=True)"
   ]
  },
  {
   "cell_type": "code",
   "execution_count": 4,
   "id": "f1cfba6a-c253-46d2-947f-a2fb4ff489df",
   "metadata": {
    "tags": []
   },
   "outputs": [],
   "source": []
  },
  {
   "cell_type": "code",
   "execution_count": 5,
   "id": "3388392d-b505-4382-b90e-e948939c5ed7",
   "metadata": {
    "tags": []
   },
   "outputs": [],
   "source": [
    "# download file function\n",
    "def DonwloadFile(file, targetPath, urlDataCollection):\n",
    "    targetFile = targetPath/file\n",
    "    if targetFile.exists():\n",
    "        return\n",
    "    urllib.request.urlretrieve(urlDataCollection+file, targetFile) "
   ]
  },
  {
   "cell_type": "code",
   "execution_count": 6,
   "id": "2698b705-019a-4851-9833-32fcd0ca6615",
   "metadata": {
    "tags": []
   },
   "outputs": [
    {
     "name": "stdout",
     "output_type": "stream",
     "text": [
      "985/985\r"
     ]
    }
   ],
   "source": [
    "# download all files contained in file list\n",
    "for k, file in enumerate(pd.read_csv('FilesList.csv', header=None).loc[:,0].values):\n",
    "    print(f\"{k+1}/{len(files)}\", end='\\r')\n",
    "    DonwloadFile(file, targetPath, urlDataCollection)"
   ]
  },
  {
   "cell_type": "code",
   "execution_count": null,
   "id": "e50c4592-4c23-45cd-8381-c8684351dab9",
   "metadata": {},
   "outputs": [],
   "source": []
  }
 ],
 "metadata": {
  "kernelspec": {
   "display_name": "Python 3 (ipykernel)",
   "language": "python",
   "name": "python3"
  },
  "language_info": {
   "codemirror_mode": {
    "name": "ipython",
    "version": 3
   },
   "file_extension": ".py",
   "mimetype": "text/x-python",
   "name": "python",
   "nbconvert_exporter": "python",
   "pygments_lexer": "ipython3",
   "version": "3.11.4"
  }
 },
 "nbformat": 4,
 "nbformat_minor": 5
}
