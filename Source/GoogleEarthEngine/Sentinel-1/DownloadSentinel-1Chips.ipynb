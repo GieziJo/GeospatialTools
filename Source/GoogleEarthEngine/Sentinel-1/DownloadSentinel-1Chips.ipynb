{
 "cells": [
  {
   "cell_type": "markdown",
   "id": "23039aec-67a8-4d54-b7f7-f9c0ac0f2ff5",
   "metadata": {},
   "source": [
    "* This code downloads S1 scenes for all S1 scenes whcih interesect the AOI on the target date.\n",
    "* It creates chips of size 256x256 across the whole scene."
   ]
  },
  {
   "cell_type": "markdown",
   "id": "fcec666a-a83d-426f-a6bc-72e1c06ae8ac",
   "metadata": {
    "tags": []
   },
   "source": [
    "# Import libraries"
   ]
  },
  {
   "cell_type": "code",
   "id": "9ac90ccd-7714-409c-be56-f6c52f1bf156",
   "metadata": {
    "tags": [],
    "ExecuteTime": {
     "end_time": "2024-06-17T04:05:04.766967Z",
     "start_time": "2024-06-17T04:05:02.315951Z"
    }
   },
   "source": [
    "from datetime import datetime\n",
    "from pathlib import Path\n",
    "\n",
    "import dateutil.rrule as rrule\n",
    "\n",
    "from Methods import CoveringGrid as CoveringGrid, S1Downloader as S1Downloader"
   ],
   "outputs": [],
   "execution_count": 1
  },
  {
   "cell_type": "markdown",
   "id": "022e5eff-7f46-4179-a35d-74ef17c6461e",
   "metadata": {
    "tags": []
   },
   "source": [
    "# Define variables"
   ]
  },
  {
   "cell_type": "code",
   "id": "d3a71866-bc40-4601-891f-224569f09e7c",
   "metadata": {
    "tags": []
   },
   "source": [
    "# path where the images will be downloaded to\n",
    "outputPath = Path('.')/'Data'/'MyS1Project'"
   ],
   "outputs": [
    {
     "data": {
      "text/plain": [
       "<IPython.core.display.HTML object>"
      ],
      "text/html": [
       "\n",
       "            <style>\n",
       "                .geemap-dark {\n",
       "                    --jp-widgets-color: white;\n",
       "                    --jp-widgets-label-color: white;\n",
       "                    --jp-ui-font-color1: white;\n",
       "                    --jp-layout-color2: #454545;\n",
       "                    background-color: #383838;\n",
       "                }\n",
       "\n",
       "                .geemap-dark .jupyter-button {\n",
       "                    --jp-layout-color3: #383838;\n",
       "                }\n",
       "\n",
       "                .geemap-colab {\n",
       "                    background-color: var(--colab-primary-surface-color, white);\n",
       "                }\n",
       "\n",
       "                .geemap-colab .jupyter-button {\n",
       "                    --jp-layout-color3: var(--colab-primary-surface-color, white);\n",
       "                }\n",
       "            </style>\n",
       "            "
      ]
     },
     "metadata": {},
     "output_type": "display_data"
    }
   ],
   "execution_count": 2
  },
  {
   "cell_type": "code",
   "id": "520fa215-2f39-49e4-98b6-fb8444afe470",
   "metadata": {
    "tags": []
   },
   "source": [
    "# projection and scale to be used for the output\n",
    "projectCRS = 'epsg:3857'\n",
    "scale = 10"
   ],
   "outputs": [
    {
     "data": {
      "text/plain": [
       "<IPython.core.display.HTML object>"
      ],
      "text/html": [
       "\n",
       "            <style>\n",
       "                .geemap-dark {\n",
       "                    --jp-widgets-color: white;\n",
       "                    --jp-widgets-label-color: white;\n",
       "                    --jp-ui-font-color1: white;\n",
       "                    --jp-layout-color2: #454545;\n",
       "                    background-color: #383838;\n",
       "                }\n",
       "\n",
       "                .geemap-dark .jupyter-button {\n",
       "                    --jp-layout-color3: #383838;\n",
       "                }\n",
       "\n",
       "                .geemap-colab {\n",
       "                    background-color: var(--colab-primary-surface-color, white);\n",
       "                }\n",
       "\n",
       "                .geemap-colab .jupyter-button {\n",
       "                    --jp-layout-color3: var(--colab-primary-surface-color, white);\n",
       "                }\n",
       "            </style>\n",
       "            "
      ]
     },
     "metadata": {},
     "output_type": "display_data"
    }
   ],
   "execution_count": 3
  },
  {
   "cell_type": "code",
   "id": "d52083ab-b8eb-4372-ba27-15442345f201",
   "metadata": {
    "tags": []
   },
   "source": [
    "# define chip size\n",
    "chipSize = 256"
   ],
   "outputs": [
    {
     "data": {
      "text/plain": [
       "<IPython.core.display.HTML object>"
      ],
      "text/html": [
       "\n",
       "            <style>\n",
       "                .geemap-dark {\n",
       "                    --jp-widgets-color: white;\n",
       "                    --jp-widgets-label-color: white;\n",
       "                    --jp-ui-font-color1: white;\n",
       "                    --jp-layout-color2: #454545;\n",
       "                    background-color: #383838;\n",
       "                }\n",
       "\n",
       "                .geemap-dark .jupyter-button {\n",
       "                    --jp-layout-color3: #383838;\n",
       "                }\n",
       "\n",
       "                .geemap-colab {\n",
       "                    background-color: var(--colab-primary-surface-color, white);\n",
       "                }\n",
       "\n",
       "                .geemap-colab .jupyter-button {\n",
       "                    --jp-layout-color3: var(--colab-primary-surface-color, white);\n",
       "                }\n",
       "            </style>\n",
       "            "
      ]
     },
     "metadata": {},
     "output_type": "display_data"
    }
   ],
   "execution_count": 4
  },
  {
   "cell_type": "code",
   "id": "273cf4dc-dea7-48a3-ae04-e56a638ea323",
   "metadata": {
    "tags": []
   },
   "source": [
    "# which date do we want to download images for, here a couple of examples are given of how to generate dates\n",
    "# note that images are only donwloaded if they exist for this date\n",
    "\n",
    "# single date\n",
    "dates = ['2022-11-22']\n",
    "# a series of dates\n",
    "dates = ['2022-11-22', '2021-10-4', '2023-01-18']\n",
    "\n",
    "#every day from start date to end date\n",
    "startDate = '2022-01-01'\n",
    "endDate = '2022-01-13'\n",
    "\n",
    "dt = rrule.DAILY\n",
    "dates = list(map(lambda date: date.strftime('%Y-%m-%d'), rrule.rrule(dt,\n",
    "                      dtstart=datetime.strptime(startDate, '%Y-%m-%d'),\n",
    "                      until=datetime.strptime(endDate, '%Y-%m-%d'))))"
   ],
   "outputs": [
    {
     "data": {
      "text/plain": [
       "<IPython.core.display.HTML object>"
      ],
      "text/html": [
       "\n",
       "            <style>\n",
       "                .geemap-dark {\n",
       "                    --jp-widgets-color: white;\n",
       "                    --jp-widgets-label-color: white;\n",
       "                    --jp-ui-font-color1: white;\n",
       "                    --jp-layout-color2: #454545;\n",
       "                    background-color: #383838;\n",
       "                }\n",
       "\n",
       "                .geemap-dark .jupyter-button {\n",
       "                    --jp-layout-color3: #383838;\n",
       "                }\n",
       "\n",
       "                .geemap-colab {\n",
       "                    background-color: var(--colab-primary-surface-color, white);\n",
       "                }\n",
       "\n",
       "                .geemap-colab .jupyter-button {\n",
       "                    --jp-layout-color3: var(--colab-primary-surface-color, white);\n",
       "                }\n",
       "            </style>\n",
       "            "
      ]
     },
     "metadata": {},
     "output_type": "display_data"
    }
   ],
   "execution_count": 5
  },
  {
   "metadata": {},
   "cell_type": "code",
   "source": "",
   "id": "77a637482a7e14b",
   "outputs": [],
   "execution_count": 5
  },
  {
   "cell_type": "code",
   "id": "26bc24dc-e7b4-4446-9fb6-76301dcd7550",
   "metadata": {
    "tags": []
   },
   "source": [
    "# path to the geojson containing the region of interest\n",
    "pathToGeoJson = 'li.geojson'"
   ],
   "outputs": [
    {
     "data": {
      "text/plain": [
       "<IPython.core.display.HTML object>"
      ],
      "text/html": [
       "\n",
       "            <style>\n",
       "                .geemap-dark {\n",
       "                    --jp-widgets-color: white;\n",
       "                    --jp-widgets-label-color: white;\n",
       "                    --jp-ui-font-color1: white;\n",
       "                    --jp-layout-color2: #454545;\n",
       "                    background-color: #383838;\n",
       "                }\n",
       "\n",
       "                .geemap-dark .jupyter-button {\n",
       "                    --jp-layout-color3: #383838;\n",
       "                }\n",
       "\n",
       "                .geemap-colab {\n",
       "                    background-color: var(--colab-primary-surface-color, white);\n",
       "                }\n",
       "\n",
       "                .geemap-colab .jupyter-button {\n",
       "                    --jp-layout-color3: var(--colab-primary-surface-color, white);\n",
       "                }\n",
       "            </style>\n",
       "            "
      ]
     },
     "metadata": {},
     "output_type": "display_data"
    }
   ],
   "execution_count": 6
  },
  {
   "cell_type": "code",
   "id": "3c512f06-c80d-434b-8cab-a409822888a3",
   "metadata": {
    "tags": []
   },
   "source": [
    "# number of cores to use (parallel processing). Uses library 'multiprocess' if nbCores > 1\n",
    "nbCores = 10"
   ],
   "outputs": [
    {
     "data": {
      "text/plain": [
       "<IPython.core.display.HTML object>"
      ],
      "text/html": [
       "\n",
       "            <style>\n",
       "                .geemap-dark {\n",
       "                    --jp-widgets-color: white;\n",
       "                    --jp-widgets-label-color: white;\n",
       "                    --jp-ui-font-color1: white;\n",
       "                    --jp-layout-color2: #454545;\n",
       "                    background-color: #383838;\n",
       "                }\n",
       "\n",
       "                .geemap-dark .jupyter-button {\n",
       "                    --jp-layout-color3: #383838;\n",
       "                }\n",
       "\n",
       "                .geemap-colab {\n",
       "                    background-color: var(--colab-primary-surface-color, white);\n",
       "                }\n",
       "\n",
       "                .geemap-colab .jupyter-button {\n",
       "                    --jp-layout-color3: var(--colab-primary-surface-color, white);\n",
       "                }\n",
       "            </style>\n",
       "            "
      ]
     },
     "metadata": {},
     "output_type": "display_data"
    }
   ],
   "execution_count": 7
  },
  {
   "metadata": {},
   "cell_type": "markdown",
   "source": [
    "Here the folder structure is defined. The files are downloaded as follows:\n",
    "\n",
    "baseFolder/<br>\n",
    "├─ chipID/<br>\n",
    "│  ├─ S1/<br>\n",
    "│  │  ├─ chipID_date<br>\n",
    "│  │  ├─ chipID_otherdate<br>\n",
    "│  │  ├─ ...<br>\n",
    "├─ otherChipID/<br>\n",
    "│  ├─ s1/<br>\n",
    "│  │  ├─ otherChipID_date<br>\n",
    "\n",
    "You can change the folder structure below, you can use `chipID` and `date` as variables"
   ],
   "id": "625efdffd654524a"
  },
  {
   "metadata": {},
   "cell_type": "code",
   "source": "chipPathLambda = lambda folder, chipID, date: folder/f'{chipID}'/'S1'/f'{chipID}_{date}.tif'",
   "id": "c7da5e4b-df94-4471-95fe-0e8dbb7442e5",
   "outputs": [
    {
     "data": {
      "text/plain": [
       "<IPython.core.display.HTML object>"
      ],
      "text/html": [
       "\n",
       "            <style>\n",
       "                .geemap-dark {\n",
       "                    --jp-widgets-color: white;\n",
       "                    --jp-widgets-label-color: white;\n",
       "                    --jp-ui-font-color1: white;\n",
       "                    --jp-layout-color2: #454545;\n",
       "                    background-color: #383838;\n",
       "                }\n",
       "\n",
       "                .geemap-dark .jupyter-button {\n",
       "                    --jp-layout-color3: #383838;\n",
       "                }\n",
       "\n",
       "                .geemap-colab {\n",
       "                    background-color: var(--colab-primary-surface-color, white);\n",
       "                }\n",
       "\n",
       "                .geemap-colab .jupyter-button {\n",
       "                    --jp-layout-color3: var(--colab-primary-surface-color, white);\n",
       "                }\n",
       "            </style>\n",
       "            "
      ]
     },
     "metadata": {},
     "output_type": "display_data"
    }
   ],
   "execution_count": 8
  },
  {
   "cell_type": "code",
   "id": "ec9588af-c9c8-45b1-9b3f-49474763a388",
   "metadata": {
    "tags": []
   },
   "source": [],
   "outputs": [],
   "execution_count": 8
  },
  {
   "cell_type": "markdown",
   "id": "aba9d1fa-0d49-4c3a-bcd2-87ccbdc7e737",
   "metadata": {
    "tags": []
   },
   "source": "# Internatl setup"
  },
  {
   "cell_type": "code",
   "id": "ce17d2f8-a3e2-45fc-a7f2-3c6f74325de3",
   "metadata": {
    "tags": []
   },
   "source": [],
   "outputs": [],
   "execution_count": 8
  },
  {
   "cell_type": "code",
   "id": "4e670581-a8c6-47e6-b045-a82ef0dc00a8",
   "metadata": {
    "tags": []
   },
   "source": [
    "pathToGeoJson = Path(pathToGeoJson)\n",
    "outputPathForCurrentGeoJson = outputPath/pathToGeoJson.stem\n",
    "outputPathForCurrentGeoJson.mkdir(exist_ok=True, parents=True)"
   ],
   "outputs": [
    {
     "data": {
      "text/plain": [
       "<IPython.core.display.HTML object>"
      ],
      "text/html": [
       "\n",
       "            <style>\n",
       "                .geemap-dark {\n",
       "                    --jp-widgets-color: white;\n",
       "                    --jp-widgets-label-color: white;\n",
       "                    --jp-ui-font-color1: white;\n",
       "                    --jp-layout-color2: #454545;\n",
       "                    background-color: #383838;\n",
       "                }\n",
       "\n",
       "                .geemap-dark .jupyter-button {\n",
       "                    --jp-layout-color3: #383838;\n",
       "                }\n",
       "\n",
       "                .geemap-colab {\n",
       "                    background-color: var(--colab-primary-surface-color, white);\n",
       "                }\n",
       "\n",
       "                .geemap-colab .jupyter-button {\n",
       "                    --jp-layout-color3: var(--colab-primary-surface-color, white);\n",
       "                }\n",
       "            </style>\n",
       "            "
      ]
     },
     "metadata": {},
     "output_type": "display_data"
    }
   ],
   "execution_count": 9
  },
  {
   "cell_type": "code",
   "id": "ca3552eb-85cc-4d4a-87b5-f40b7a263d06",
   "metadata": {
    "tags": []
   },
   "source": [
    "chipPathFunction = lambda chipID, date: chipPathLambda(outputPathForCurrentGeoJson, chipID, date)"
   ],
   "outputs": [
    {
     "data": {
      "text/plain": [
       "<IPython.core.display.HTML object>"
      ],
      "text/html": [
       "\n",
       "            <style>\n",
       "                .geemap-dark {\n",
       "                    --jp-widgets-color: white;\n",
       "                    --jp-widgets-label-color: white;\n",
       "                    --jp-ui-font-color1: white;\n",
       "                    --jp-layout-color2: #454545;\n",
       "                    background-color: #383838;\n",
       "                }\n",
       "\n",
       "                .geemap-dark .jupyter-button {\n",
       "                    --jp-layout-color3: #383838;\n",
       "                }\n",
       "\n",
       "                .geemap-colab {\n",
       "                    background-color: var(--colab-primary-surface-color, white);\n",
       "                }\n",
       "\n",
       "                .geemap-colab .jupyter-button {\n",
       "                    --jp-layout-color3: var(--colab-primary-surface-color, white);\n",
       "                }\n",
       "            </style>\n",
       "            "
      ]
     },
     "metadata": {},
     "output_type": "display_data"
    }
   ],
   "execution_count": 10
  },
  {
   "cell_type": "code",
   "id": "3102172f-3480-4bc2-9edc-aa8bbb8eea53",
   "metadata": {
    "tags": []
   },
   "source": [],
   "outputs": [],
   "execution_count": 10
  },
  {
   "cell_type": "markdown",
   "id": "6f68d95f-01fa-44b9-8a4a-b753b17217e1",
   "metadata": {
    "tags": []
   },
   "source": [
    "# Download all images"
   ]
  },
  {
   "cell_type": "code",
   "id": "eecdafea-6625-4fac-a5a4-4c34106fd7e8",
   "metadata": {
    "tags": [],
    "ExecuteTime": {
     "end_time": "2024-06-17T04:05:05.051569Z",
     "start_time": "2024-06-17T04:05:04.803344Z"
    }
   },
   "source": [
    "# This loads the grid covering the study area\n",
    "coveringGrid = CoveringGrid.GetCoveringGrid(outputPathForCurrentGeoJson, pathToGeoJson, projectCRS, scale, chipSize)"
   ],
   "outputs": [
    {
     "data": {
      "text/plain": [
       "<IPython.core.display.HTML object>"
      ],
      "text/html": [
       "\n",
       "            <style>\n",
       "                .geemap-dark {\n",
       "                    --jp-widgets-color: white;\n",
       "                    --jp-widgets-label-color: white;\n",
       "                    --jp-ui-font-color1: white;\n",
       "                    --jp-layout-color2: #454545;\n",
       "                    background-color: #383838;\n",
       "                }\n",
       "\n",
       "                .geemap-dark .jupyter-button {\n",
       "                    --jp-layout-color3: #383838;\n",
       "                }\n",
       "\n",
       "                .geemap-colab {\n",
       "                    background-color: var(--colab-primary-surface-color, white);\n",
       "                }\n",
       "\n",
       "                .geemap-colab .jupyter-button {\n",
       "                    --jp-layout-color3: var(--colab-primary-surface-color, white);\n",
       "                }\n",
       "            </style>\n",
       "            "
      ]
     },
     "metadata": {},
     "output_type": "display_data"
    }
   ],
   "execution_count": 11
  },
  {
   "cell_type": "markdown",
   "id": "58146d99eafd0c28",
   "metadata": {},
   "source": []
  },
  {
   "cell_type": "markdown",
   "id": "9f7753a6fde65f18",
   "metadata": {},
   "source": []
  },
  {
   "cell_type": "code",
   "id": "c8483baca7796283",
   "metadata": {
    "tags": [],
    "ExecuteTime": {
     "end_time": "2024-06-17T04:05:11.074559Z",
     "start_time": "2024-06-17T04:05:05.052348Z"
    }
   },
   "source": [
    "for k, date in enumerate(dates):\n",
    "    print(f'Processing date {date} ({k+1} / {len(dates)})')\n",
    "    S1Downloader.DownloadAllChipsForDate(coveringGrid, date, projectCRS, chipSize, chipPathFunction, nbCores)\n",
    "\n",
    "print(f'Done, everything downloaded to {outputPathForCurrentGeoJson}')"
   ],
   "outputs": [],
   "execution_count": null
  },
  {
   "cell_type": "code",
   "id": "daa933db-abc2-4405-83c9-c546dfab14fe",
   "metadata": {
    "ExecuteTime": {
     "end_time": "2024-06-17T04:05:11.080848Z",
     "start_time": "2024-06-17T04:05:11.079536Z"
    }
   },
   "source": [],
   "outputs": [],
   "execution_count": 12
  },
  {
   "cell_type": "code",
   "id": "b1464d17-c222-455a-af4a-0debf03843dd",
   "metadata": {
    "ExecuteTime": {
     "end_time": "2024-06-17T04:05:11.082525Z",
     "start_time": "2024-06-17T04:05:11.081412Z"
    }
   },
   "source": [],
   "outputs": [],
   "execution_count": 12
  }
 ],
 "metadata": {
  "kernelspec": {
   "display_name": "Python 3 (ipykernel)",
   "language": "python",
   "name": "python3"
  },
  "language_info": {
   "codemirror_mode": {
    "name": "ipython",
    "version": 3
   },
   "file_extension": ".py",
   "mimetype": "text/x-python",
   "name": "python",
   "nbconvert_exporter": "python",
   "pygments_lexer": "ipython3",
   "version": "3.12.3"
  }
 },
 "nbformat": 4,
 "nbformat_minor": 5
}
