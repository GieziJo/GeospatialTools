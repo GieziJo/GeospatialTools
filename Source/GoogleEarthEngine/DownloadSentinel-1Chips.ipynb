{
 "cells": [
  {
   "cell_type": "markdown",
   "id": "fcec666a-a83d-426f-a6bc-72e1c06ae8ac",
   "metadata": {
    "jp-MarkdownHeadingCollapsed": true,
    "tags": []
   },
   "source": [
    "# Import libraries"
   ]
  },
  {
   "cell_type": "code",
   "execution_count": 13,
   "id": "2c2fa37a-f486-4f7c-b192-ca56878cce2c",
   "metadata": {
    "tags": []
   },
   "outputs": [
    {
     "data": {
      "text/html": [
       "\n",
       "            <style>\n",
       "                .geemap-dark {\n",
       "                    --jp-widgets-color: white;\n",
       "                    --jp-widgets-label-color: white;\n",
       "                    --jp-ui-font-color1: white;\n",
       "                    --jp-layout-color2: #454545;\n",
       "                    background-color: #383838;\n",
       "                }\n",
       "                    \n",
       "                .geemap-dark .jupyter-button {\n",
       "                    --jp-layout-color3: #383838;\n",
       "                }\n",
       "                \n",
       "                .geemap-colab {\n",
       "                    background-color: var(--colab-primary-surface-color, white);\n",
       "                }\n",
       "                    \n",
       "                .geemap-colab .jupyter-button {\n",
       "                    --jp-layout-color3: var(--colab-primary-surface-color, white);\n",
       "                }\n",
       "            </style>\n",
       "            "
      ],
      "text/plain": [
       "<IPython.core.display.HTML object>"
      ]
     },
     "metadata": {},
     "output_type": "display_data"
    }
   ],
   "source": [
    "# Earth engine code\n",
    "import ee"
   ]
  },
  {
   "cell_type": "code",
   "execution_count": 14,
   "id": "a32784b1-9bea-4627-9cce-63073abd79d2",
   "metadata": {
    "tags": []
   },
   "outputs": [
    {
     "data": {
      "text/html": [
       "\n",
       "            <style>\n",
       "                .geemap-dark {\n",
       "                    --jp-widgets-color: white;\n",
       "                    --jp-widgets-label-color: white;\n",
       "                    --jp-ui-font-color1: white;\n",
       "                    --jp-layout-color2: #454545;\n",
       "                    background-color: #383838;\n",
       "                }\n",
       "                    \n",
       "                .geemap-dark .jupyter-button {\n",
       "                    --jp-layout-color3: #383838;\n",
       "                }\n",
       "                \n",
       "                .geemap-colab {\n",
       "                    background-color: var(--colab-primary-surface-color, white);\n",
       "                }\n",
       "                    \n",
       "                .geemap-colab .jupyter-button {\n",
       "                    --jp-layout-color3: var(--colab-primary-surface-color, white);\n",
       "                }\n",
       "            </style>\n",
       "            "
      ],
      "text/plain": [
       "<IPython.core.display.HTML object>"
      ]
     },
     "metadata": {},
     "output_type": "display_data"
    }
   ],
   "source": [
    "# log in to earth engine\n",
    "try:\n",
    "    ee.Initialize()\n",
    "except:\n",
    "    ee.Authenticate()\n",
    "    ee.Initialize()"
   ]
  },
  {
   "cell_type": "code",
   "execution_count": 23,
   "id": "4a79cea3-cc8f-4859-8924-6b1e872fda43",
   "metadata": {
    "tags": []
   },
   "outputs": [
    {
     "data": {
      "text/html": [
       "\n",
       "            <style>\n",
       "                .geemap-dark {\n",
       "                    --jp-widgets-color: white;\n",
       "                    --jp-widgets-label-color: white;\n",
       "                    --jp-ui-font-color1: white;\n",
       "                    --jp-layout-color2: #454545;\n",
       "                    background-color: #383838;\n",
       "                }\n",
       "                    \n",
       "                .geemap-dark .jupyter-button {\n",
       "                    --jp-layout-color3: #383838;\n",
       "                }\n",
       "                \n",
       "                .geemap-colab {\n",
       "                    background-color: var(--colab-primary-surface-color, white);\n",
       "                }\n",
       "                    \n",
       "                .geemap-colab .jupyter-button {\n",
       "                    --jp-layout-color3: var(--colab-primary-surface-color, white);\n",
       "                }\n",
       "            </style>\n",
       "            "
      ],
      "text/plain": [
       "<IPython.core.display.HTML object>"
      ]
     },
     "metadata": {},
     "output_type": "display_data"
    }
   ],
   "source": [
    "import geemap\n",
    "from pathlib import Path\n",
    "\n",
    "import geopandas as gpd\n",
    "\n",
    "import multiprocess\n",
    "from functools import partial\n",
    "\n",
    "from tqdm import tqdm"
   ]
  },
  {
   "cell_type": "code",
   "execution_count": 4,
   "id": "a6a24991-f858-430c-80d6-09510efd265c",
   "metadata": {
    "tags": []
   },
   "outputs": [
    {
     "data": {
      "text/html": [
       "\n",
       "            <style>\n",
       "                .geemap-dark {\n",
       "                    --jp-widgets-color: white;\n",
       "                    --jp-widgets-label-color: white;\n",
       "                    --jp-ui-font-color1: white;\n",
       "                    --jp-layout-color2: #454545;\n",
       "                    background-color: #383838;\n",
       "                }\n",
       "                    \n",
       "                .geemap-dark .jupyter-button {\n",
       "                    --jp-layout-color3: #383838;\n",
       "                }\n",
       "                \n",
       "                .geemap-colab {\n",
       "                    background-color: var(--colab-primary-surface-color, white);\n",
       "                }\n",
       "                    \n",
       "                .geemap-colab .jupyter-button {\n",
       "                    --jp-layout-color3: var(--colab-primary-surface-color, white);\n",
       "                }\n",
       "            </style>\n",
       "            "
      ],
      "text/plain": [
       "<IPython.core.display.HTML object>"
      ]
     },
     "metadata": {},
     "output_type": "display_data"
    }
   ],
   "source": [
    "tqdm.__init__ = partialmethod(tqdm.__init__, disable=True)"
   ]
  },
  {
   "cell_type": "markdown",
   "id": "022e5eff-7f46-4179-a35d-74ef17c6461e",
   "metadata": {
    "tags": []
   },
   "source": [
    "# Define variables"
   ]
  },
  {
   "cell_type": "code",
   "execution_count": 6,
   "id": "d3a71866-bc40-4601-891f-224569f09e7c",
   "metadata": {
    "tags": []
   },
   "outputs": [],
   "source": [
    "# path where the images will be downloaded to\n",
    "outputPath = Path('MyOutputPath')"
   ]
  },
  {
   "cell_type": "code",
   "execution_count": 6,
   "id": "3e32a774-6066-4559-82aa-0f5483399ac5",
   "metadata": {
    "tags": []
   },
   "outputs": [],
   "source": [
    "# projection to be used for the output\n",
    "projectCRS = 'epsg:3857'"
   ]
  },
  {
   "cell_type": "code",
   "execution_count": null,
   "id": "273cf4dc-dea7-48a3-ae04-e56a638ea323",
   "metadata": {
    "tags": []
   },
   "outputs": [],
   "source": [
    "# which date do we want to download images for\n",
    "date = '2018-12-31'"
   ]
  },
  {
   "cell_type": "code",
   "execution_count": 6,
   "id": "26bc24dc-e7b4-4446-9fb6-76301dcd7550",
   "metadata": {
    "tags": []
   },
   "outputs": [],
   "source": [
    "# path to the geojson containing the region of interest\n",
    "pathToGeoJson = 'myGeoJson.geojson'"
   ]
  },
  {
   "cell_type": "code",
   "execution_count": 6,
   "id": "9df663ca-8720-4546-aebb-1822af938f4a",
   "metadata": {
    "tags": []
   },
   "outputs": [],
   "source": [
    "# number of cores to use (parallel processing)\n",
    "nbCores = 10"
   ]
  },
  {
   "cell_type": "markdown",
   "id": "aba9d1fa-0d49-4c3a-bcd2-87ccbdc7e737",
   "metadata": {
    "jp-MarkdownHeadingCollapsed": true,
    "tags": []
   },
   "source": [
    "# Setup functions to run"
   ]
  },
  {
   "cell_type": "code",
   "execution_count": 6,
   "id": "9351c5fa-7ac9-4f68-b4f5-fd518fa1610f",
   "metadata": {
    "tags": []
   },
   "outputs": [
    {
     "data": {
      "text/html": [
       "\n",
       "            <style>\n",
       "                .geemap-dark {\n",
       "                    --jp-widgets-color: white;\n",
       "                    --jp-widgets-label-color: white;\n",
       "                    --jp-ui-font-color1: white;\n",
       "                    --jp-layout-color2: #454545;\n",
       "                    background-color: #383838;\n",
       "                }\n",
       "                    \n",
       "                .geemap-dark .jupyter-button {\n",
       "                    --jp-layout-color3: #383838;\n",
       "                }\n",
       "                \n",
       "                .geemap-colab {\n",
       "                    background-color: var(--colab-primary-surface-color, white);\n",
       "                }\n",
       "                    \n",
       "                .geemap-colab .jupyter-button {\n",
       "                    --jp-layout-color3: var(--colab-primary-surface-color, white);\n",
       "                }\n",
       "            </style>\n",
       "            "
      ],
      "text/plain": [
       "<IPython.core.display.HTML object>"
      ]
     },
     "metadata": {},
     "output_type": "display_data"
    }
   ],
   "source": [
    "# convert the geojson file to a dissolved ee geometry\n",
    "shape = gpd.read_file(pathToGeoJson).dissolve()\n",
    "geom = geemap.geopandas_to_ee(gpd.GeoDataFrame(shape.geometry)).geometry()"
   ]
  },
  {
   "cell_type": "code",
   "execution_count": 18,
   "id": "fa4bb6de-ff8a-4bf0-878e-baff468009f0",
   "metadata": {
    "tags": []
   },
   "outputs": [
    {
     "data": {
      "text/html": [
       "\n",
       "            <style>\n",
       "                .geemap-dark {\n",
       "                    --jp-widgets-color: white;\n",
       "                    --jp-widgets-label-color: white;\n",
       "                    --jp-ui-font-color1: white;\n",
       "                    --jp-layout-color2: #454545;\n",
       "                    background-color: #383838;\n",
       "                }\n",
       "                    \n",
       "                .geemap-dark .jupyter-button {\n",
       "                    --jp-layout-color3: #383838;\n",
       "                }\n",
       "                \n",
       "                .geemap-colab {\n",
       "                    background-color: var(--colab-primary-surface-color, white);\n",
       "                }\n",
       "                    \n",
       "                .geemap-colab .jupyter-button {\n",
       "                    --jp-layout-color3: var(--colab-primary-surface-color, white);\n",
       "                }\n",
       "            </style>\n",
       "            "
      ],
      "text/plain": [
       "<IPython.core.display.HTML object>"
      ]
     },
     "metadata": {},
     "output_type": "display_data"
    }
   ],
   "source": [
    "# create a covering grid over the geometry, save the grid for futur references\n",
    "# set override to true when you call this to regenerate the grid\n",
    "def GetCoveringGrid(outputDataFolder, geom, crs, resolution, override=False):\n",
    "    coveringGridPath = outputDataFolder/'Shapefiles'/'CoveringGrid.geojson'\n",
    "    coveringGridPath.parent.mkdir(exist_ok=True, parents=True)\n",
    "\n",
    "    if (not coveringGridPath.exists()) or override:\n",
    "        grid = geom.coveringGrid(crs, resolution)\n",
    "        gridSize = grid.size().getInfo()\n",
    "        indexes = ee.List(grid.aggregate_array('system:index'))\n",
    "        ids = ee.List.sequence(1, gridSize)\n",
    "        idByIndex = ee.Dictionary.fromLists(indexes, ids)\n",
    "        grid = grid.map(lambda feature: feature.set('ItemID', idByIndex.get(feature.get('system:index'))))\n",
    "        geemap.ee_to_geojson(grid, coveringGridPath.as_posix())\n",
    "        \n",
    "\n",
    "    coveringGrid = geemap.geojson_to_ee(coveringGridPath.as_posix())\n",
    "    \n",
    "    return coveringGrid"
   ]
  },
  {
   "cell_type": "code",
   "execution_count": 19,
   "id": "3fb66aee-45b3-4af7-b3be-ca2c84acbc0c",
   "metadata": {
    "tags": []
   },
   "outputs": [
    {
     "data": {
      "text/html": [
       "\n",
       "            <style>\n",
       "                .geemap-dark {\n",
       "                    --jp-widgets-color: white;\n",
       "                    --jp-widgets-label-color: white;\n",
       "                    --jp-ui-font-color1: white;\n",
       "                    --jp-layout-color2: #454545;\n",
       "                    background-color: #383838;\n",
       "                }\n",
       "                    \n",
       "                .geemap-dark .jupyter-button {\n",
       "                    --jp-layout-color3: #383838;\n",
       "                }\n",
       "                \n",
       "                .geemap-colab {\n",
       "                    background-color: var(--colab-primary-surface-color, white);\n",
       "                }\n",
       "                    \n",
       "                .geemap-colab .jupyter-button {\n",
       "                    --jp-layout-color3: var(--colab-primary-surface-color, white);\n",
       "                }\n",
       "            </style>\n",
       "            "
      ],
      "text/plain": [
       "<IPython.core.display.HTML object>"
      ]
     },
     "metadata": {},
     "output_type": "display_data"
    }
   ],
   "source": [
    "# sentinel-1 collection\n",
    "Sen1Collection = ee.ImageCollection(\"COPERNICUS/S1_GRD\")\n",
    "\n",
    "\n",
    "filters = [\n",
    "        ee.Filter.listContains(\"transmitterReceiverPolarisation\", \"VV\"),\\\n",
    "        ee.Filter.listContains(\"transmitterReceiverPolarisation\", \"VH\"),\\\n",
    "        ee.Filter.equals(\"instrumentMode\", \"IW\")\\\n",
    "    ]\n",
    "    \n",
    "Sen1Collection = Sen1Collection.filter(filters)"
   ]
  },
  {
   "cell_type": "code",
   "execution_count": 21,
   "id": "58f0bcfc-02a9-472f-b751-8a43b6ad5147",
   "metadata": {
    "tags": []
   },
   "outputs": [
    {
     "data": {
      "text/html": [
       "\n",
       "            <style>\n",
       "                .geemap-dark {\n",
       "                    --jp-widgets-color: white;\n",
       "                    --jp-widgets-label-color: white;\n",
       "                    --jp-ui-font-color1: white;\n",
       "                    --jp-layout-color2: #454545;\n",
       "                    background-color: #383838;\n",
       "                }\n",
       "                    \n",
       "                .geemap-dark .jupyter-button {\n",
       "                    --jp-layout-color3: #383838;\n",
       "                }\n",
       "                \n",
       "                .geemap-colab {\n",
       "                    background-color: var(--colab-primary-surface-color, white);\n",
       "                }\n",
       "                    \n",
       "                .geemap-colab .jupyter-button {\n",
       "                    --jp-layout-color3: var(--colab-primary-surface-color, white);\n",
       "                }\n",
       "            </style>\n",
       "            "
      ],
      "text/plain": [
       "<IPython.core.display.HTML object>"
      ]
     },
     "metadata": {},
     "output_type": "display_data"
    }
   ],
   "source": [
    "# download a single chip element\n",
    "def DownloadChip(element_index, image, outputFolder, grid, date, crs):\n",
    "    feature = ee.Feature(grid.get(element_index))\n",
    "    RoI = feature.geometry()\n",
    "    \n",
    "    chipID = feature.get('ItemID').getInfo()\n",
    "    \n",
    "    \n",
    "    ##! This is the target folder, if you don't like the structure, change it here\n",
    "    targetFolder = (outputFolder/str(chipID)/'S1')\n",
    "    if(not targetFolder.exists()):\n",
    "        targetFolder.mkdir(parents=True)\n",
    "    \n",
    "    ##! same for the chip ID, change here \n",
    "    chipPath = targetFolder/f\"{chipID}_{date}.tif\"\n",
    "    \n",
    "    if chipPath.exists():\n",
    "        return\n",
    "    \n",
    "    chipPath = chipPath.as_posix()\n",
    "    \n",
    "    geemap.download_ee_image(image, chipPath, crs=crs, region=RoI, shape=(256, 256))"
   ]
  },
  {
   "cell_type": "code",
   "execution_count": 22,
   "id": "39a23841-a424-4c75-9b47-f0ff7cccf1fb",
   "metadata": {
    "tags": []
   },
   "outputs": [
    {
     "data": {
      "text/html": [
       "\n",
       "            <style>\n",
       "                .geemap-dark {\n",
       "                    --jp-widgets-color: white;\n",
       "                    --jp-widgets-label-color: white;\n",
       "                    --jp-ui-font-color1: white;\n",
       "                    --jp-layout-color2: #454545;\n",
       "                    background-color: #383838;\n",
       "                }\n",
       "                    \n",
       "                .geemap-dark .jupyter-button {\n",
       "                    --jp-layout-color3: #383838;\n",
       "                }\n",
       "                \n",
       "                .geemap-colab {\n",
       "                    background-color: var(--colab-primary-surface-color, white);\n",
       "                }\n",
       "                    \n",
       "                .geemap-colab .jupyter-button {\n",
       "                    --jp-layout-color3: var(--colab-primary-surface-color, white);\n",
       "                }\n",
       "            </style>\n",
       "            "
      ],
      "text/plain": [
       "<IPython.core.display.HTML object>"
      ]
     },
     "metadata": {},
     "output_type": "display_data"
    }
   ],
   "source": [
    "# download all the chips for a given date\n",
    "def DownloadAllChipsForDate(coveringGridList, listSize, crs, image, date, outputFolder):\n",
    "    with multiprocess.Pool(nbCores) as pool:\n",
    "        pool.map(partial(DownloadChip, image=image, outputFolder=outputFolder, grid=coveringGridList, date=date, crs=crs), range(listSize))"
   ]
  },
  {
   "cell_type": "code",
   "execution_count": 23,
   "id": "8679e7a1-641d-491e-98c6-b23e00087112",
   "metadata": {
    "tags": []
   },
   "outputs": [
    {
     "data": {
      "text/html": [
       "\n",
       "            <style>\n",
       "                .geemap-dark {\n",
       "                    --jp-widgets-color: white;\n",
       "                    --jp-widgets-label-color: white;\n",
       "                    --jp-ui-font-color1: white;\n",
       "                    --jp-layout-color2: #454545;\n",
       "                    background-color: #383838;\n",
       "                }\n",
       "                    \n",
       "                .geemap-dark .jupyter-button {\n",
       "                    --jp-layout-color3: #383838;\n",
       "                }\n",
       "                \n",
       "                .geemap-colab {\n",
       "                    background-color: var(--colab-primary-surface-color, white);\n",
       "                }\n",
       "                    \n",
       "                .geemap-colab .jupyter-button {\n",
       "                    --jp-layout-color3: var(--colab-primary-surface-color, white);\n",
       "                }\n",
       "            </style>\n",
       "            "
      ],
      "text/plain": [
       "<IPython.core.display.HTML object>"
      ]
     },
     "metadata": {},
     "output_type": "display_data"
    }
   ],
   "source": [
    "# Get image for date and boundary\n",
    "def GetImage(date, boundary):\n",
    "    \n",
    "    startDate = ee.Date(date).advance(k, 'Day')\n",
    "    filteredCollection = Sen1Collection.filterBounds(boundary).filterDate(startDate, startDate.advance(1, 'Day'))\n",
    "    \n",
    "    imageBoundaries = filteredCollection.geometry().dissolve()\n",
    "    image = filteredCollection.mosaic()\n",
    "    \n",
    "    crs = filteredCollection.first().select('VV').projection().crs().getInfo()\n",
    "    \n",
    "    image = image.setDefaultProjection(crs)\n",
    "    \n",
    "    return image, imageBoundaries"
   ]
  },
  {
   "cell_type": "code",
   "execution_count": 24,
   "id": "3102172f-3480-4bc2-9edc-aa8bbb8eea53",
   "metadata": {
    "tags": []
   },
   "outputs": [],
   "source": [
    "# download all chips for a given geometry and date\n",
    "def DownloadChipsForGeomDate(geom, date, outputPath):\n",
    "    image, imageBoundaries = GetImage(date, geom)\n",
    "    coveringGrid = GetCoveringGrid(outputPath, geom, projectCRS, 10*256, False)\n",
    "    coveringGrid = coveringGrid.map(lambda feat: feat.set('touch', feat.geometry().intersects(bound,1))).filter(ee.Filter.eq('touch', True))\n",
    "\n",
    "    listSize = coveringGrid.size().getInfo()\n",
    "    coveringGridList = coveringGrid.toList(listSize)\n",
    "\n",
    "    DownloadAllChipsForDate(coveringGridList, listSize, projectCRS, image, date_k, outputLocation_k)"
   ]
  },
  {
   "cell_type": "markdown",
   "id": "6f68d95f-01fa-44b9-8a4a-b753b17217e1",
   "metadata": {
    "tags": []
   },
   "source": [
    "# Download all images"
   ]
  },
  {
   "cell_type": "code",
   "execution_count": 24,
   "id": "248f2f87-486a-4c46-b095-422b4199a5e9",
   "metadata": {
    "tags": []
   },
   "outputs": [
    {
     "data": {
      "text/html": [
       "\n",
       "            <style>\n",
       "                .geemap-dark {\n",
       "                    --jp-widgets-color: white;\n",
       "                    --jp-widgets-label-color: white;\n",
       "                    --jp-ui-font-color1: white;\n",
       "                    --jp-layout-color2: #454545;\n",
       "                    background-color: #383838;\n",
       "                }\n",
       "                    \n",
       "                .geemap-dark .jupyter-button {\n",
       "                    --jp-layout-color3: #383838;\n",
       "                }\n",
       "                \n",
       "                .geemap-colab {\n",
       "                    background-color: var(--colab-primary-surface-color, white);\n",
       "                }\n",
       "                    \n",
       "                .geemap-colab .jupyter-button {\n",
       "                    --jp-layout-color3: var(--colab-primary-surface-color, white);\n",
       "                }\n",
       "            </style>\n",
       "            "
      ],
      "text/plain": [
       "<IPython.core.display.HTML object>"
      ]
     },
     "metadata": {},
     "output_type": "display_data"
    }
   ],
   "source": [
    "#runs all the code\n",
    "DownloadChipsForGeomDate(geom, date, outputPath)"
   ]
  }
 ],
 "metadata": {
  "kernelspec": {
   "display_name": "Python 3 (ipykernel)",
   "language": "python",
   "name": "python3"
  },
  "language_info": {
   "codemirror_mode": {
    "name": "ipython",
    "version": 3
   },
   "file_extension": ".py",
   "mimetype": "text/x-python",
   "name": "python",
   "nbconvert_exporter": "python",
   "pygments_lexer": "ipython3",
   "version": "3.9.18"
  }
 },
 "nbformat": 4,
 "nbformat_minor": 5
}
